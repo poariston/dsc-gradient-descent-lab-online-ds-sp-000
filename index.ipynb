{
 "cells": [
  {
   "cell_type": "markdown",
   "metadata": {},
   "source": [
    "# Gradient Descent - Lab\n",
    "\n",
    "## Introduction\n",
    "\n",
    "In this lab, you'll continue to formalize your knowledge of gradient descent by coding the algorithm yourself. In the upcoming labs, you'll apply similar procedures to implement logistic regression on your own.\n",
    "\n",
    "\n",
    "## Objectives\n",
    "\n",
    "In this lab you will: \n",
    "\n",
    "\n",
    "- Implement gradient descent from scratch to minimize OLS\n"
   ]
  },
  {
   "cell_type": "markdown",
   "metadata": {},
   "source": [
    "## Use gradient descent to minimize OLS\n",
    "\n",
    "To practice gradient descent, you'll investigate a simple regression case in which you're looking to minimize the Residual Sum of Squares (RSS) between the predictions and the actual values. Remember that this is referred to as Ordinary Least Squares (OLS) regression. You'll compare two simplistic models and use gradient descent to improve upon these initial models.\n",
    "\n",
    "\n",
    "## Load the dataset\n",
    "\n",
    "- Import the file `'movie_data.xlsx'` using Pandas \n",
    "- Print the first five rows of the data \n",
    "\n",
    "> You can use the `read_excel()` function to import an Excel file. "
   ]
  },
  {
   "cell_type": "code",
   "execution_count": 1,
   "metadata": {},
   "outputs": [
    {
     "data": {
      "text/html": [
       "<div>\n",
       "<style scoped>\n",
       "    .dataframe tbody tr th:only-of-type {\n",
       "        vertical-align: middle;\n",
       "    }\n",
       "\n",
       "    .dataframe tbody tr th {\n",
       "        vertical-align: top;\n",
       "    }\n",
       "\n",
       "    .dataframe thead th {\n",
       "        text-align: right;\n",
       "    }\n",
       "</style>\n",
       "<table border=\"1\" class=\"dataframe\">\n",
       "  <thead>\n",
       "    <tr style=\"text-align: right;\">\n",
       "      <th></th>\n",
       "      <th>budget</th>\n",
       "      <th>domgross</th>\n",
       "      <th>title</th>\n",
       "    </tr>\n",
       "  </thead>\n",
       "  <tbody>\n",
       "    <tr>\n",
       "      <th>0</th>\n",
       "      <td>13000000</td>\n",
       "      <td>25682380</td>\n",
       "      <td>21 &amp;amp; Over</td>\n",
       "    </tr>\n",
       "    <tr>\n",
       "      <th>1</th>\n",
       "      <td>45658735</td>\n",
       "      <td>13414714</td>\n",
       "      <td>Dredd 3D</td>\n",
       "    </tr>\n",
       "    <tr>\n",
       "      <th>2</th>\n",
       "      <td>20000000</td>\n",
       "      <td>53107035</td>\n",
       "      <td>12 Years a Slave</td>\n",
       "    </tr>\n",
       "    <tr>\n",
       "      <th>3</th>\n",
       "      <td>61000000</td>\n",
       "      <td>75612460</td>\n",
       "      <td>2 Guns</td>\n",
       "    </tr>\n",
       "    <tr>\n",
       "      <th>4</th>\n",
       "      <td>40000000</td>\n",
       "      <td>95020213</td>\n",
       "      <td>42</td>\n",
       "    </tr>\n",
       "  </tbody>\n",
       "</table>\n",
       "</div>"
      ],
      "text/plain": [
       "     budget  domgross             title\n",
       "0  13000000  25682380     21 &amp; Over\n",
       "1  45658735  13414714          Dredd 3D\n",
       "2  20000000  53107035  12 Years a Slave\n",
       "3  61000000  75612460            2 Guns\n",
       "4  40000000  95020213                42"
      ]
     },
     "execution_count": 1,
     "metadata": {},
     "output_type": "execute_result"
    }
   ],
   "source": [
    "# Import the data\n",
    "import pandas as pd\n",
    "df = pd.read_excel('movie_data.xlsx')\n",
    "\n",
    "# Print the first five rows of the data\n",
    "df.head()"
   ]
  },
  {
   "cell_type": "code",
   "execution_count": 2,
   "metadata": {},
   "outputs": [
    {
     "data": {
      "text/plain": [
       "(30, 3)"
      ]
     },
     "execution_count": 2,
     "metadata": {},
     "output_type": "execute_result"
    }
   ],
   "source": [
    "df.shape"
   ]
  },
  {
   "cell_type": "markdown",
   "metadata": {},
   "source": [
    "## Two simplistic models\n",
    "\n",
    "Imagine someone is attempting to predict the domestic gross sales of a movie based on the movie's budget, or at least further investigate how these two quantities are related. Two models are suggested and need to be compared.  \n",
    "The two models are:  \n",
    "\n",
    "$\\text{domgross} = 1.575 \\cdot \\text{budget}$  \n",
    "$\\text{domgross} = 1.331 \\cdot \\text{budget}$  \n",
    "\n",
    "\n",
    "Here's a graph of the two models along with the actual data:"
   ]
  },
  {
   "cell_type": "code",
   "execution_count": 3,
   "metadata": {},
   "outputs": [
    {
     "data": {
      "image/png": "[encoded data removed]",
      "text/plain": [
       "<Figure size 432x288 with 1 Axes>"
      ]
     },
     "metadata": {
      "needs_background": "light"
     },
     "output_type": "display_data"
    }
   ],
   "source": [
    "import numpy as np\n",
    "import matplotlib.pyplot as plt\n",
    "%matplotlib inline\n",
    "\n",
    "x = np.linspace(start=df['budget'].min(), stop=df['budget'].max(), num=10**5)\n",
    "plt.scatter(x, 1.575*x, label='Mean Ratio Model') # Model 1\n",
    "plt.scatter(x, 1.331*x, label='Median Ratio Model') # Model 2\n",
    "plt.scatter(df['budget'], df['domgross'], label='Actual Data Points')\n",
    "plt.title('Gross Domestic Sales vs. Budget', fontsize=18)\n",
    "plt.xlabel('Budget', fontsize=16)\n",
    "plt.ylabel('Gross Domestic Sales', fontsize=16)\n",
    "plt.legend(bbox_to_anchor=(1, 1))\n",
    "plt.show()"
   ]
  },
  {
   "cell_type": "markdown",
   "metadata": {},
   "source": [
    "## Error/Loss functions\n",
    "\n",
    "To compare the two models (and future ones), a metric for evaluating and comparing models to each other is needed. Traditionally, this is the residual sum of squares. As such you are looking to minimize  $ \\sum(\\hat{y}-y)^2$.\n",
    "Write a function `rss()` which calculates the residual sum of squares for a simplistic model: \n",
    "\n",
    "$\\text{domgross} = m \\cdot \\text{budget}$ "
   ]
  },
  {
   "cell_type": "code",
   "execution_count": 4,
   "metadata": {},
   "outputs": [],
   "source": [
    "def rss(m, X=df['budget'], y=df['domgross']):\n",
    "    if len(X) != len(y):\n",
    "        print('ca va pas!')\n",
    "    \n",
    "    squares_df=pd.DataFrame(X).copy()\n",
    "    squares_df['domgross'] = y.values\n",
    "    squares_df['squares']=(m*df.budget-df.domgross)**2\n",
    "    return np.sum(squares_df.squares)"
   ]
  },
  {
   "cell_type": "code",
   "execution_count": 5,
   "metadata": {},
   "outputs": [
    {
     "data": {
      "text/plain": [
       "222288260290116585"
      ]
     },
     "execution_count": 5,
     "metadata": {},
     "output_type": "execute_result"
    }
   ],
   "source": [
    "X=df['budget']\n",
    "y=df['domgross']\n",
    "m=1\n",
    "rss(m,X,y)"
   ]
  },
  {
   "cell_type": "code",
   "execution_count": 6,
   "metadata": {},
   "outputs": [
    {
     "data": {
      "text/plain": [
       "(pandas.core.series.Series, pandas.core.frame.DataFrame)"
      ]
     },
     "execution_count": 6,
     "metadata": {},
     "output_type": "execute_result"
    }
   ],
   "source": [
    "X=df['budget']\n",
    "y=df['domgross']\n",
    "XX=pd.DataFrame(X)\n",
    "type(X), type(XX)\n",
    "\n",
    "# y.values\n",
    "# squares_df=X.copy()\n",
    "# # squares_df['domgross']=y.values\n",
    "# squares_df.columns()\n",
    "\n",
    "\n",
    "# # dfg=pd.DataFrame(y.values)\n",
    "# # dfg\n",
    "# # print(len(X),len(y))\n",
    "# # rss(1,X,y)\n"
   ]
  },
  {
   "cell_type": "markdown",
   "metadata": {},
   "source": [
    "## Find the RSS for the two models\n",
    "Which of the two models is better?"
   ]
  },
  {
   "cell_type": "code",
   "execution_count": 7,
   "metadata": {},
   "outputs": [
    {
     "data": {
      "text/plain": [
       "2.7614512142376128e+17"
      ]
     },
     "execution_count": 7,
     "metadata": {},
     "output_type": "execute_result"
    }
   ],
   "source": [
    "# Your code here\n",
    "X=df['budget']\n",
    "y=df['domgross']\n",
    "m=1.575\n",
    "rss(m,X,y)"
   ]
  },
  {
   "cell_type": "code",
   "execution_count": 8,
   "metadata": {},
   "outputs": [
    {
     "data": {
      "text/plain": [
       "2.3547212057814554e+17"
      ]
     },
     "execution_count": 8,
     "metadata": {},
     "output_type": "execute_result"
    }
   ],
   "source": [
    "# Your response here\n",
    "X=df['budget']\n",
    "y=df['domgross']\n",
    "m=1.331\n",
    "rss(m,X,y)"
   ]
  },
  {
   "cell_type": "code",
   "execution_count": 9,
   "metadata": {},
   "outputs": [],
   "source": [
    "# The 1.331 is a bit better\n"
   ]
  },
  {
   "cell_type": "markdown",
   "metadata": {},
   "source": [
    "## Gradient descent\n",
    "\n",
    "Now that you have a loss function, you can use numerical methods to find a minimum to the loss function. By minimizing the loss function, you have achieved an optimal solution according to the problem formulation. Here's the outline of gradient descent from the previous lesson:  \n",
    "\n",
    "1. Define initial parameters:\n",
    "    1. pick a starting point\n",
    "    2. pick a step size $\\alpha$ (alpha)\n",
    "    3. choose a maximum number of iterations; the algorithm will terminate after this many iterations if a minimum has yet to be found\n",
    "    4. (optionally) define a precision parameter; similar to the maximum number of iterations, this will terminate the algorithm early. For example, one might define a precision parameter of 0.00001, in which case if the change in the loss function were less than 0.00001, the algorithm would terminate. The idea is that we are very close to the bottom and further iterations would make a negligible difference \n",
    "2. Calculate the gradient at the current point (initially, the starting point)\n",
    "3. Take a step (of size alpha) in the direction of the gradient\n",
    "4. Repeat steps 2 and 3 until the maximum number of iterations is met, or the difference between two points is less then your precision parameter  \n",
    "\n",
    "To start, visualize the cost function. Plot the cost function output for a range of m values from -3 to 5."
   ]
  },
  {
   "cell_type": "code",
   "execution_count": 10,
   "metadata": {},
   "outputs": [
    {
     "name": "stdout",
     "output_type": "stream",
     "text": [
      "[-3, -2, -1, 0, 1, 2, 3, 4, 5]\n"
     ]
    },
    {
     "data": {
      "text/plain": [
       "[<matplotlib.lines.Line2D at 0x193f1499080>]"
      ]
     },
     "execution_count": 10,
     "metadata": {},
     "output_type": "execute_result"
    },
    {
     "data": {
      "image/png": "[encoded data removed]",
      "text/plain": [
       "<Figure size 576x360 with 1 Axes>"
      ]
     },
     "metadata": {
      "needs_background": "light"
     },
     "output_type": "display_data"
    }
   ],
   "source": [
    "# Your code here\n",
    "# cost function: m -> rss(m,X,y)\n",
    "\n",
    "import matplotlib.pyplot as plt\n",
    "\n",
    "m= range(-3,6)\n",
    "print(list(m))\n",
    "rss_plot=[rss(i,X,y) for i in m]\n",
    "rss_plot\n",
    "fig=plt.figure(figsize=(8,5))\n",
    "plt.plot(m,rss_plot)"
   ]
  },
  {
   "cell_type": "markdown",
   "metadata": {},
   "source": [
    "As you can see, this is a simple cost function. The minimum is clearly around 1. With that, it's time to implement gradient descent in order to find the optimal value for m."
   ]
  },
  {
   "cell_type": "code",
   "execution_count": 11,
   "metadata": {},
   "outputs": [
    {
     "data": {
      "text/plain": [
       "409720103894263680"
      ]
     },
     "execution_count": 11,
     "metadata": {},
     "output_type": "execute_result"
    }
   ],
   "source": [
    "rss(2)"
   ]
  },
  {
   "cell_type": "code",
   "execution_count": 26,
   "metadata": {},
   "outputs": [
    {
     "name": "stdout",
     "output_type": "stream",
     "text": [
      "iters 1\n",
      "cur_x 1.3625339148979663\n",
      "rss 2.3925039570684944e+17 \n",
      "\n",
      "iters 2\n",
      "cur_x 1.1973265544857115\n",
      "rss 2.2432822720963328e+17 \n",
      "\n",
      "iters 3\n",
      "cur_x 1.1785348669362365\n",
      "rss 2.2339375102007805e+17 \n",
      "\n",
      "iters 4\n",
      "cur_x 1.1767225876489191\n",
      "rss 2.2331186804627146e+17 \n",
      "\n",
      "iters 5\n",
      "cur_x 1.1765508453440219\n",
      "rss 2.2330418350888915e+17 \n",
      "\n",
      "iters 6\n",
      "cur_x 1.1765345972896337\n",
      "rss 2.2330345717042134e+17 \n",
      "\n",
      "iters 7\n",
      "cur_x 1.1765330603511215\n",
      "rss 2.233033884705297e+17 \n",
      "\n",
      "iters 8\n",
      "cur_x 1.1765329149709731\n",
      "rss 2.2330338197221024e+17 \n",
      "\n",
      "iters 9\n",
      "cur_x 1.1765329012193768\n",
      "rss 2.2330338135753075e+17 \n",
      "\n",
      "iters 10\n",
      "cur_x 1.1765328999186098\n",
      "rss 2.2330338129938806e+17 \n",
      "\n",
      "iters 11\n",
      "cur_x 1.176532899795568\n",
      "rss 2.2330338129388822e+17 \n",
      "\n",
      "iters 12\n",
      "cur_x 1.176532899783933\n",
      "rss 2.2330338129336816e+17 \n",
      "\n",
      "iters 13\n",
      "cur_x 1.1765328997828304\n",
      "rss 2.2330338129331888e+17 \n",
      "\n",
      "iters 14\n",
      "cur_x 1.1765328997827291\n",
      "rss 2.2330338129331437e+17 \n",
      "\n",
      "iters 15\n",
      "cur_x 1.1765328997827202\n",
      "rss 2.2330338129331392e+17 \n",
      "\n",
      "iters 16\n",
      "cur_x 1.1765328997827174\n",
      "rss 2.2330338129331382e+17 \n",
      "\n",
      "iters 17\n",
      "cur_x 1.1765328997827174\n",
      "rss 2.2330338129331382e+17 \n",
      "\n"
     ]
    }
   ],
   "source": [
    "# Set a starting point\n",
    "cur_x = 2\n",
    "\n",
    "# Initialize a step size\n",
    "alpha = .0000001\n",
    "\n",
    "# Initialize a precision\n",
    "precision = 0.00000001 \n",
    "\n",
    "# Helpful initialization\n",
    "previous_step_size = 1 \n",
    "\n",
    "# Maximum number of iterations\n",
    "# max_iters = 10000\n",
    "max_iters = 100\n",
    "\n",
    "# Iteration counter\n",
    "iters = 0 \n",
    "\n",
    "# Create a loop to iterate through the algorithm until either the max_iteration or precision conditions is met\n",
    "# Your code here; create a loop as described above\n",
    "\n",
    "#update for rss\n",
    "update_rss =.1\n",
    "\n",
    "while iters < max_iters and update_rss > precision:\n",
    "    \n",
    "    previous_x = cur_x\n",
    "    \n",
    "    # Calculate the gradient. This is often done by hand to reduce computational complexity.\n",
    "    # For here, generate points surrounding your current state, then calculate the rss of these points\n",
    "    # Finally, use the np.gradient() method on this survey region. \n",
    "    # This code is provided here to ease this portion of the algorithm implementation\n",
    "    \n",
    "    x_survey_region = np.linspace(start = cur_x - previous_step_size , stop = cur_x + previous_step_size , num = 101)\n",
    "    rss_survey_region = [np.sqrt(rss(m)) for m in x_survey_region]\n",
    "    gradient = np.gradient(rss_survey_region)[50] \n",
    "    \n",
    "    # Update the current x, by taking an \"alpha sized\" step in the direction of the gradient\n",
    "    cur_x = cur_x - gradient*alpha    \n",
    "    previous_step_size = np.abs(gradient*alpha)\n",
    "    update_rss=np.abs(rss(cur_x)-rss(previous_x)) \n",
    "    \n",
    "    # Update the iteration number\n",
    "    iters+=1\n",
    "    print ('iters', iters)\n",
    "    print ('cur_x', cur_x)\n",
    "    print ('rss', rss(cur_x),'\\n')\n",
    "    \n",
    "\n",
    "# The output for the above will be: ('The local minimum occurs at', 1.1124498053361267)    \n",
    "# print(\"The local minimum occurs at\", cur_x)"
   ]
  },
  {
   "cell_type": "code",
   "execution_count": 31,
   "metadata": {},
   "outputs": [
    {
     "name": "stdout",
     "output_type": "stream",
     "text": [
      "iters 1\n",
      "gradient 6374660.851020336\n",
      "previous_x 2\n",
      "cur_x 1.3625339148979663\n",
      "rss 2.3925039570684944e+17 \n",
      "\n",
      "iters 2\n",
      "gradient 1652073.6041225493\n",
      "previous_x 1.3625339148979663\n",
      "cur_x 1.1973265544857115\n",
      "rss 2.2432822720963328e+17 \n",
      "\n",
      "iters 3\n",
      "gradient 187916.87549474835\n",
      "previous_x 1.1973265544857115\n",
      "cur_x 1.1785348669362365\n",
      "rss 2.2339375102007805e+17 \n",
      "\n",
      "iters 4\n",
      "gradient 96440.29391404986\n",
      "previous_x 1.1785348669362365\n",
      "cur_x 1.1688908375448315\n",
      "rss 2.2297467554490125e+17 \n",
      "\n",
      "iters 5\n",
      "gradient 87518.81240037084\n",
      "previous_x 1.1688908375448315\n",
      "cur_x 1.1601389563047944\n",
      "rss 2.22629888995035e+17 \n",
      "\n",
      "iters 6\n",
      "gradient 79401.84516945481\n",
      "previous_x 1.1601389563047944\n",
      "cur_x 1.1521987717878488\n",
      "rss 2.223463216846058e+17 \n",
      "\n",
      "iters 7\n",
      "gradient 72022.11094400287\n",
      "previous_x 1.1521987717878488\n",
      "cur_x 1.1449965606934485\n",
      "rss 2.2211317119688096e+17 \n",
      "\n",
      "iters 8\n",
      "gradient 65316.603560715914\n",
      "previous_x 1.1449965606934485\n",
      "cur_x 1.1384649003373768\n",
      "rss 2.219215194330239e+17 \n",
      "\n",
      "iters 9\n",
      "gradient 59226.68755227327\n",
      "previous_x 1.1384649003373768\n",
      "cur_x 1.1325422315821494\n",
      "rss 2.217640109796327e+17 \n",
      "\n",
      "iters 10\n",
      "gradient 53698.06716582179\n",
      "previous_x 1.1325422315821494\n",
      "cur_x 1.1271724248655672\n",
      "rss 2.216345840834164e+17 \n",
      "\n",
      "iters 11\n",
      "gradient 48680.6671884954\n",
      "previous_x 1.1271724248655672\n",
      "cur_x 1.1223043581467178\n",
      "rss 2.2152824638113e+17 \n",
      "\n",
      "iters 12\n",
      "gradient 44128.45491525531\n",
      "previous_x 1.1223043581467178\n",
      "cur_x 1.1178915126551923\n",
      "rss 2.214408884503971e+17 \n",
      "\n",
      "iters 13\n",
      "gradient 39999.22529965639\n",
      "previous_x 1.1178915126551923\n",
      "cur_x 1.1138915901252266\n",
      "rss 2.213691291500059e+17 \n",
      "\n",
      "iters 14\n",
      "gradient 36254.36556652188\n",
      "previous_x 1.1138915901252266\n",
      "cur_x 1.1102661535685745\n",
      "rss 2.213101875645088e+17 \n",
      "\n",
      "iters 15\n",
      "gradient 32858.61108785868\n",
      "previous_x 1.1102661535685745\n",
      "cur_x 1.1069802924597887\n",
      "rss 2.2126177713573904e+17 \n",
      "\n",
      "iters 16\n",
      "gradient 29779.800897717476\n",
      "previous_x 1.1069802924597887\n",
      "cur_x 1.104002312370017\n",
      "rss 2.212220182447234e+17 \n",
      "\n",
      "iters 17\n",
      "gradient 26988.638628810644\n",
      "previous_x 1.104002312370017\n",
      "cur_x 1.1013034485071358\n",
      "rss 2.211893661012665e+17 \n",
      "\n",
      "iters 18\n",
      "gradient 24458.46272060275\n",
      "previous_x 1.1013034485071358\n",
      "cur_x 1.0988576022350756\n",
      "rss 2.2116255130985808e+17 \n",
      "\n",
      "iters 19\n",
      "gradient 22165.028319478035\n",
      "previous_x 1.0988576022350756\n",
      "cur_x 1.0966410994031277\n",
      "rss 2.2114053091673613e+17 \n",
      "\n",
      "iters 20\n",
      "gradient 20086.302253365517\n",
      "previous_x 1.0966410994031277\n",
      "cur_x 1.0946324691777911\n",
      "rss 2.211224481121842e+17 \n",
      "\n",
      "iters 21\n",
      "gradient 18202.271717607975\n",
      "previous_x 1.0946324691777911\n",
      "cur_x 1.0928122420060302\n",
      "rss 2.211075990728957e+17 \n",
      "\n",
      "iters 22\n",
      "gradient 16494.766781389713\n",
      "previous_x 1.0928122420060302\n",
      "cur_x 1.0911627653278912\n",
      "rss 2.21095405689522e+17 \n",
      "\n",
      "iters 23\n",
      "gradient 14947.2964669168\n",
      "previous_x 1.0911627653278912\n",
      "cur_x 1.0896680356811996\n",
      "rss 2.2108539314173235e+17 \n",
      "\n",
      "iters 24\n",
      "gradient 13544.897908717394\n",
      "previous_x 1.0896680356811996\n",
      "cur_x 1.088313545890328\n",
      "rss 2.210771714638223e+17 \n",
      "\n",
      "iters 25\n",
      "gradient 12273.997952759266\n",
      "previous_x 1.088313545890328\n",
      "cur_x 1.087086146095052\n",
      "rss 2.2107042039388397e+17 \n",
      "\n",
      "iters 26\n",
      "gradient 11122.286463588476\n",
      "previous_x 1.087086146095052\n",
      "cur_x 1.0859739174486933\n",
      "rss 2.210648769237825e+17 \n",
      "\n",
      "iters 27\n",
      "gradient 10078.600568145514\n",
      "previous_x 1.0859739174486933\n",
      "cur_x 1.0849660573918787\n",
      "rss 2.2106032506991795e+17 \n",
      "\n",
      "iters 28\n",
      "gradient 9132.819051980972\n",
      "previous_x 1.0849660573918787\n",
      "cur_x 1.0840527754866807\n",
      "rss 2.2105658746959917e+17 \n",
      "\n",
      "iters 29\n",
      "gradient 8275.766138195992\n",
      "previous_x 1.0840527754866807\n",
      "cur_x 1.0832251988728612\n",
      "rss 2.210535184778634e+17 \n",
      "\n",
      "iters 30\n",
      "gradient 7499.123901575804\n",
      "previous_x 1.0832251988728612\n",
      "cur_x 1.0824752864827036\n",
      "rss 2.2105099849727792e+17 \n",
      "\n",
      "iters 31\n",
      "gradient 6795.3526102900505\n",
      "previous_x 1.0824752864827036\n",
      "cur_x 1.0817957512216747\n",
      "rss 2.2104892932079603e+17 \n",
      "\n",
      "iters 32\n",
      "gradient 6157.618324548006\n",
      "previous_x 1.0817957512216747\n",
      "cur_x 1.08117998938922\n",
      "rss 2.2104723030687014e+17 \n",
      "\n",
      "iters 33\n",
      "gradient 5579.727128237486\n",
      "previous_x 1.08117998938922\n",
      "cur_x 1.0806220166763962\n",
      "rss 2.2104583523822864e+17 \n",
      "\n",
      "iters 34\n",
      "gradient 5056.065411776304\n",
      "previous_x 1.0806220166763962\n",
      "cur_x 1.0801164101352185\n",
      "rss 2.2104468974220688e+17 \n",
      "\n",
      "iters 35\n",
      "gradient 4581.545669585466\n",
      "previous_x 1.0801164101352185\n",
      "cur_x 1.07965825556826\n",
      "rss 2.2104374917230592e+17 \n",
      "\n",
      "iters 36\n",
      "gradient 4151.557317793369\n",
      "previous_x 1.07965825556826\n",
      "cur_x 1.0792430998364806\n",
      "rss 2.210429768685554e+17 \n",
      "\n",
      "iters 37\n",
      "gradient 3761.922077924013\n",
      "previous_x 1.0792430998364806\n",
      "cur_x 1.078866907628688\n",
      "rss 2.2104234272897267e+17 \n",
      "\n",
      "iters 38\n",
      "gradient 3408.853510439396\n",
      "previous_x 1.078866907628688\n",
      "cur_x 1.078526022277644\n",
      "rss 2.2104182203650554e+17 \n",
      "\n",
      "iters 39\n",
      "gradient 3088.9203196763992\n",
      "previous_x 1.078526022277644\n",
      "cur_x 1.0782171302456764\n",
      "rss 2.210413944957779e+17 \n",
      "\n",
      "iters 40\n",
      "gradient 2799.0130809545517\n",
      "previous_x 1.0782171302456764\n",
      "cur_x 1.077937228937581\n",
      "rss 2.2104104344212496e+17 \n",
      "\n",
      "iters 41\n",
      "gradient 2536.3140762150288\n",
      "previous_x 1.077937228937581\n",
      "cur_x 1.0776835975299595\n",
      "rss 2.2104075519210746e+17 \n",
      "\n",
      "iters 42\n",
      "gradient 2298.269948810339\n",
      "previous_x 1.0776835975299595\n",
      "cur_x 1.0774537705350784\n",
      "rss 2.2104051851020134e+17 \n",
      "\n",
      "iters 43\n",
      "gradient 2082.5669164061546\n",
      "previous_x 1.0774537705350784\n",
      "cur_x 1.0772455138434378\n",
      "rss 2.2104032417088656e+17 \n",
      "\n",
      "iters 44\n",
      "gradient 1887.108304053545\n",
      "previous_x 1.0772455138434378\n",
      "cur_x 1.0770568030130325\n",
      "rss 2.2104016459907018e+17 \n",
      "\n",
      "iters 45\n",
      "gradient 1709.9941812455654\n",
      "previous_x 1.0770568030130325\n",
      "cur_x 1.076885803594908\n",
      "rss 2.210400335748338e+17 \n",
      "\n",
      "iters 46\n",
      "gradient 1549.5029063224792\n",
      "previous_x 1.076885803594908\n",
      "cur_x 1.0767308533042759\n",
      "rss 2.210399259909971e+17 \n",
      "\n",
      "iters 47\n",
      "gradient 1404.074400961399\n",
      "previous_x 1.0767308533042759\n",
      "cur_x 1.0765904458641797\n",
      "rss 2.2103983765405344e+17 \n",
      "\n",
      "iters 48\n",
      "gradient 1272.2949921488762\n",
      "previous_x 1.0765904458641797\n",
      "cur_x 1.0764632163649648\n",
      "rss 2.210397651207143e+17 \n",
      "\n",
      "iters 49\n",
      "gradient 1152.8836751580238\n",
      "previous_x 1.0764632163649648\n",
      "cur_x 1.076347927997449\n",
      "rss 2.2103970556369693e+17 \n",
      "\n",
      "iters 50\n",
      "gradient 1044.6796655654907\n",
      "previous_x 1.076347927997449\n",
      "cur_x 1.0762434600308926\n",
      "rss 2.2103965666152115e+17 \n",
      "\n",
      "iters 51\n",
      "gradient 946.6311177611351\n",
      "previous_x 1.0762434600308926\n",
      "cur_x 1.0761487969191164\n",
      "rss 2.2103961650802166e+17 \n",
      "\n",
      "iters 52\n",
      "gradient 857.7849025726318\n",
      "previous_x 1.0761487969191164\n",
      "cur_x 1.076063018428859\n",
      "rss 2.2103958353804768e+17 \n",
      "\n",
      "iters 53\n",
      "gradient 777.2773432433605\n",
      "previous_x 1.076063018428859\n",
      "cur_x 1.0759852906945349\n",
      "rss 2.21039556466456e+17 \n",
      "\n",
      "iters 54\n",
      "gradient 704.325820684433\n",
      "previous_x 1.0759852906945349\n",
      "cur_x 1.0759148581124665\n",
      "rss 2.2103953423801702e+17 \n",
      "\n",
      "iters 55\n",
      "gradient 638.2211671173573\n",
      "previous_x 1.0759148581124665\n",
      "cur_x 1.0758510359957547\n",
      "rss 2.2103951598628304e+17 \n",
      "\n",
      "iters 56\n",
      "gradient 578.3207720220089\n",
      "previous_x 1.0758510359957547\n",
      "cur_x 1.0757932039185525\n",
      "rss 2.2103950099981517e+17 \n",
      "\n",
      "iters 57\n",
      "gradient 524.042336255312\n",
      "previous_x 1.0757932039185525\n",
      "cur_x 1.0757407996849269\n",
      "rss 2.2103948869445194e+17 \n",
      "\n",
      "iters 58\n",
      "gradient 474.8582115471363\n",
      "previous_x 1.0757407996849269\n",
      "cur_x 1.075693313863772\n",
      "rss 2.2103947859053936e+17 \n",
      "\n",
      "iters 59\n",
      "gradient 430.2902718782425\n",
      "previous_x 1.075693313863772\n",
      "cur_x 1.0756502848365843\n",
      "rss 2.2103947029423418e+17 \n",
      "\n",
      "iters 60\n",
      "gradient 389.9052650630474\n",
      "previous_x 1.0756502848365843\n",
      "cur_x 1.075611294310078\n",
      "rss 2.2103946348215226e+17 \n",
      "\n",
      "iters 61\n",
      "gradient 353.31060191988945\n",
      "previous_x 1.075611294310078\n",
      "cur_x 1.075575963249886\n",
      "rss 2.2103945788876374e+17 \n",
      "\n",
      "iters 62\n",
      "gradient 320.15053927898407\n",
      "previous_x 1.075575963249886\n",
      "cur_x 1.075543948195958\n",
      "rss 2.2103945329604214e+17 \n",
      "\n",
      "iters 63\n",
      "gradient 290.1027222573757\n",
      "previous_x 1.075543948195958\n",
      "cur_x 1.0755149379237323\n",
      "rss 2.2103944952496646e+17 \n",
      "\n",
      "iters 64\n",
      "gradient 262.87505063414574\n",
      "previous_x 1.0755149379237323\n",
      "cur_x 1.075488650418669\n",
      "rss 2.2103944642854288e+17 \n",
      "\n",
      "iters 65\n",
      "gradient 238.20283910632133\n",
      "previous_x 1.075488650418669\n",
      "cur_x 1.0754648301347582\n",
      "rss 2.2103944388607485e+17 \n",
      "\n",
      "iters 66\n",
      "gradient 215.8462445139885\n",
      "previous_x 1.0754648301347582\n",
      "cur_x 1.075443245510307\n",
      "rss 2.2103944179845885e+17 \n",
      "\n",
      "iters 67\n",
      "gradient 195.58793407678604\n",
      "previous_x 1.075443245510307\n",
      "cur_x 1.0754236867168991\n",
      "rss 2.2103944008432093e+17 \n",
      "\n",
      "iters 68\n",
      "gradient 177.2309728860855\n",
      "previous_x 1.0754236867168991\n",
      "cur_x 1.0754059636196105\n",
      "rss 2.210394386768454e+17 \n",
      "\n",
      "iters 69\n",
      "gradient 160.59690922498703\n",
      "previous_x 1.0754059636196105\n",
      "cur_x 1.075389903928688\n",
      "rss 2.2103943752116966e+17 \n",
      "\n"
     ]
    },
    {
     "name": "stdout",
     "output_type": "stream",
     "text": [
      "iters 70\n",
      "gradient 145.52404034137726\n",
      "previous_x 1.075389903928688\n",
      "cur_x 1.075375351524654\n",
      "rss 2.2103943657224634e+17 \n",
      "\n",
      "iters 71\n",
      "gradient 131.86583974957466\n",
      "previous_x 1.075375351524654\n",
      "cur_x 1.075362164940679\n",
      "rss 2.210394357930871e+17 \n",
      "\n",
      "iters 72\n",
      "gradient 119.48953348398209\n",
      "previous_x 1.075362164940679\n",
      "cur_x 1.0753502159873307\n",
      "rss 2.2103943515332077e+17 \n",
      "\n",
      "iters 73\n",
      "gradient 108.27480888366699\n",
      "previous_x 1.0753502159873307\n",
      "cur_x 1.0753393885064424\n",
      "rss 2.2103943462800982e+17 \n",
      "\n",
      "iters 74\n",
      "gradient 98.11264541745186\n",
      "previous_x 1.0753393885064424\n",
      "cur_x 1.0753295772419007\n",
      "rss 2.2103943419667792e+17 \n",
      "\n",
      "iters 75\n",
      "gradient 88.90425479412079\n",
      "previous_x 1.0753295772419007\n",
      "cur_x 1.0753206868164213\n",
      "rss 2.2103943384251206e+17 \n",
      "\n",
      "iters 76\n",
      "gradient 80.56012025475502\n",
      "previous_x 1.0753206868164213\n",
      "cur_x 1.0753126308043959\n",
      "rss 2.210394335517071e+17 \n",
      "\n",
      "iters 77\n",
      "gradient 72.99912691116333\n",
      "previous_x 1.0753126308043959\n",
      "cur_x 1.0753053308917047\n",
      "rss 2.2103943331292755e+17 \n",
      "\n",
      "iters 78\n",
      "gradient 66.14777263998985\n",
      "previous_x 1.0753053308917047\n",
      "cur_x 1.0752987161144407\n",
      "rss 2.210394331168662e+17 \n",
      "\n",
      "iters 79\n",
      "gradient 59.93945434689522\n",
      "previous_x 1.0752987161144407\n",
      "cur_x 1.075292722169006\n",
      "rss 2.210394329558805e+17 \n",
      "\n",
      "iters 80\n",
      "gradient 54.313819497823715\n",
      "previous_x 1.075292722169006\n",
      "cur_x 1.0752872907870563\n",
      "rss 2.210394328236955e+17 \n",
      "\n",
      "iters 81\n",
      "gradient 49.216180235147476\n",
      "previous_x 1.0752872907870563\n",
      "cur_x 1.0752823691690327\n",
      "rss 2.210394327151586e+17 \n",
      "\n",
      "iters 82\n",
      "gradient 44.59698134660721\n",
      "previous_x 1.0752823691690327\n",
      "cur_x 1.0752779094708982\n",
      "rss 2.2103943262603914e+17 \n",
      "\n",
      "iters 83\n",
      "gradient 40.41131874918938\n",
      "previous_x 1.0752779094708982\n",
      "cur_x 1.0752738683390233\n",
      "rss 2.2103943255286336e+17 \n",
      "\n",
      "iters 84\n",
      "gradient 36.61850270628929\n",
      "previous_x 1.0752738683390233\n",
      "cur_x 1.0752702064887527\n",
      "rss 2.210394324927788e+17 \n",
      "\n",
      "iters 85\n",
      "gradient 33.18166255950928\n",
      "previous_x 1.0752702064887527\n",
      "cur_x 1.0752668883224967\n",
      "rss 2.2103943244344342e+17 \n",
      "\n",
      "iters 86\n",
      "gradient 30.06738793849945\n",
      "previous_x 1.0752668883224967\n",
      "cur_x 1.0752638815837028\n",
      "rss 2.2103943240293434e+17 \n",
      "\n",
      "iters 87\n",
      "gradient 27.245404541492462\n",
      "previous_x 1.0752638815837028\n",
      "cur_x 1.0752611570432486\n",
      "rss 2.2103943236967242e+17 \n",
      "\n",
      "iters 88\n",
      "gradient 24.68827924132347\n",
      "previous_x 1.0752611570432486\n",
      "cur_x 1.0752586882153246\n",
      "rss 2.21039432342361e+17 \n",
      "\n",
      "iters 89\n",
      "gradient 22.371153622865677\n",
      "previous_x 1.0752586882153246\n",
      "cur_x 1.0752564510999623\n",
      "rss 2.2103943231993568e+17 \n",
      "\n",
      "iters 90\n",
      "gradient 20.27150249481201\n",
      "previous_x 1.0752564510999623\n",
      "cur_x 1.0752544239497128\n",
      "rss 2.2103943230152227e+17 \n",
      "\n",
      "iters 91\n",
      "gradient 18.368914753198624\n",
      "previous_x 1.0752544239497128\n",
      "cur_x 1.0752525870582375\n",
      "rss 2.210394322864031e+17 \n",
      "\n",
      "iters 92\n",
      "gradient 16.644894927740097\n",
      "previous_x 1.0752525870582375\n",
      "cur_x 1.0752509225687448\n",
      "rss 2.2103943227398877e+17 \n",
      "\n",
      "iters 93\n",
      "gradient 15.082683473825455\n",
      "previous_x 1.0752509225687448\n",
      "cur_x 1.0752494143003974\n",
      "rss 2.2103943226379533e+17 \n",
      "\n",
      "iters 94\n",
      "gradient 13.667093873023987\n",
      "previous_x 1.0752494143003974\n",
      "cur_x 1.0752480475910102\n",
      "rss 2.210394322554256e+17 \n",
      "\n",
      "iters 95\n",
      "gradient 12.384364753961563\n",
      "previous_x 1.0752480475910102\n",
      "cur_x 1.0752468091545349\n",
      "rss 2.2103943224855315e+17 \n",
      "\n",
      "iters 96\n",
      "gradient 11.22202667593956\n",
      "previous_x 1.0752468091545349\n",
      "cur_x 1.0752456869518672\n",
      "rss 2.2103943224291027e+17 \n",
      "\n",
      "iters 97\n",
      "gradient 10.168780028820038\n",
      "previous_x 1.0752456869518672\n",
      "cur_x 1.0752446700738643\n",
      "rss 2.210394322382768e+17 \n",
      "\n",
      "iters 98\n",
      "gradient 9.214386314153671\n",
      "previous_x 1.0752446700738643\n",
      "cur_x 1.0752437486352329\n",
      "rss 2.2103943223447245e+17 \n",
      "\n",
      "iters 99\n",
      "gradient 8.349567383527756\n",
      "previous_x 1.0752437486352329\n",
      "cur_x 1.0752429136784944\n",
      "rss 2.210394322313485e+17 \n",
      "\n",
      "iters 100\n",
      "gradient 7.565916299819946\n",
      "previous_x 1.0752429136784944\n",
      "cur_x 1.0752421570868644\n",
      "rss 2.2103943222878352e+17 \n",
      "\n",
      "The local minimum occurs at 1.0752421570868644\n"
     ]
    }
   ],
   "source": [
    "# Set a starting point\n",
    "cur_x = 2\n",
    "previous_x=cur_x\n",
    "# Initialize a step size\n",
    "alpha = .0000001\n",
    "# Initialize a precision\n",
    "precision = 0.00000001 \n",
    "# Helpful initialization\n",
    "previous_step_size = 1 \n",
    "# Maximum number of iterations\n",
    "max_iters = 100\n",
    "# Iteration counter\n",
    "iters = 0 \n",
    "#update for rss\n",
    "update_rss =.1\n",
    "#lower limit for x step size. If I don't do that, step size becomes too small too quick. \n",
    "min_step_size=.1\n",
    "\n",
    "# Create a loop to iterate through the algorithm until either the max_iteration or precision conditions is met\n",
    "# Your code here; create a loop as described above\n",
    "while iters < max_iters and update_rss > precision:\n",
    "    \n",
    "    previous_x = cur_x\n",
    "    \n",
    "    # Calculate the gradient. This is often done by hand to reduce computational complexity.\n",
    "    # For here, generate points surrounding your current state, then calculate the rss of these points\n",
    "    # Finally, use the np.gradient() method on this survey region. \n",
    "    # This code is provided here to ease this portion of the algorithm implementation\n",
    "    \n",
    "    x_survey_region = np.linspace(start = cur_x - previous_step_size , stop = cur_x + previous_step_size , num = 101)\n",
    "    rss_survey_region = [np.sqrt(rss(m)) for m in x_survey_region]\n",
    "    gradient = np.gradient(rss_survey_region)[50] \n",
    "    \n",
    "    \n",
    "    # Update the current x, by taking an \"alpha sized\" step in the direction of the gradient\n",
    "    previous_x= cur_x\n",
    "    cur_x = cur_x - gradient*alpha    \n",
    "    previous_step_size = max( min_step_size, np.abs(gradient*alpha))\n",
    "    update_rss=np.abs(rss(cur_x)-rss(previous_x)) \n",
    "    \n",
    "    # Update the iteration number\n",
    "    iters+=1\n",
    "    print ('iters', iters)\n",
    "    print('gradient',gradient)\n",
    "    print('previous_x', previous_x)\n",
    "    print ('cur_x', cur_x)\n",
    "    print ('rss', rss(cur_x),'\\n')\n",
    "    \n",
    "\n",
    "# The output for the above will be: ('The local minimum occurs at', 1.1124498053361267)    \n",
    "print(\"The local minimum occurs at\", cur_x)"
   ]
  },
  {
   "cell_type": "code",
   "execution_count": 34,
   "metadata": {},
   "outputs": [
    {
     "name": "stdout",
     "output_type": "stream",
     "text": [
      "1\n",
      "2\n",
      "3\n",
      "4\n",
      "5\n"
     ]
    }
   ],
   "source": [
    "t=0\n",
    "while t<5:\n",
    "    t+=1\n",
    "    print(t)"
   ]
  },
  {
   "cell_type": "code",
   "execution_count": 30,
   "metadata": {},
   "outputs": [
    {
     "name": "stdout",
     "output_type": "stream",
     "text": [
      "[ 0.  1.  2.  3.  4.  5.  6.  7.  8.  9. 10. 11. 12. 13. 14. 15. 16. 17.\n",
      " 18. 19. 20.] <class 'numpy.ndarray'> 21\n",
      "[690011852.6877418, 471474559.5364787, 640093824.2900518, 1019024969.1062585, 1452020527.2630823, 1902518140.698876, 2360518349.8432837, 2822371064.2594476, 3286452480.8605943, 3751935678.247177, 4218356634.830329, 4685435305.677969, 5152992843.865956, 5620909751.484853, 6089103181.906581, 6557513905.866752, 7026098464.406143, 7494824252.615169, 7963666333.028418, 8432605308.57431, 8901625865.915989] <class 'list'> 21\n",
      "[-2.18537293e+08 -2.49590142e+07  2.73775205e+08  4.05963351e+08\n",
      "  4.41746586e+08  4.54248911e+08  4.59926462e+08  4.62967066e+08\n",
      "  4.64782307e+08  4.65952077e+08  4.66749814e+08  4.67318105e+08\n",
      "  4.67737223e+08  4.68055169e+08  4.68302077e+08  4.68497641e+08\n",
      "  4.68655173e+08  4.68783934e+08  4.68890528e+08  4.68979766e+08\n",
      "  4.69020557e+08] <class 'numpy.ndarray'> 21\n"
     ]
    }
   ],
   "source": [
    "    x_survey_region = np.linspace(start = 10 - 10 , stop = 10 + 10 , num = 21)\n",
    "    rss_survey_region = [np.sqrt(rss(m)) for m in x_survey_region]\n",
    "#     gradient = np.gradient(rss_survey_region)[50] \n",
    "    gradient = np.gradient(rss_survey_region)\n",
    "    print(x_survey_region,type(x_survey_region),len(x_survey_region))\n",
    "    print(rss_survey_region,type(rss_survey_region),len(rss_survey_region))\n",
    "    print(gradient,type(gradient),len(gradient))"
   ]
  },
  {
   "cell_type": "code",
   "execution_count": 17,
   "metadata": {},
   "outputs": [
    {
     "data": {
      "text/plain": [
       "array([1. , 1.5, 2.5, 3.5, 4.5, 5. ])"
      ]
     },
     "execution_count": 17,
     "metadata": {},
     "output_type": "execute_result"
    }
   ],
   "source": [
    "f = np.array([1, 2, 4, 7, 11, 16], dtype=float)\n",
    "np.gradient(f)\n"
   ]
  },
  {
   "cell_type": "code",
   "execution_count": 16,
   "metadata": {},
   "outputs": [
    {
     "data": {
      "text/plain": [
       "-65472068.26677215"
      ]
     },
     "execution_count": 16,
     "metadata": {},
     "output_type": "execute_result"
    }
   ],
   "source": [
    "624539784.4209696-690011852.6877418\n"
   ]
  },
  {
   "cell_type": "code",
   "execution_count": 18,
   "metadata": {},
   "outputs": [
    {
     "data": {
      "text/plain": [
       "-57411998.63882637"
      ]
     },
     "execution_count": 18,
     "metadata": {},
     "output_type": "execute_result"
    }
   ],
   "source": [
    "567127785.7821432-624539784.4209696\n"
   ]
  },
  {
   "cell_type": "code",
   "execution_count": 20,
   "metadata": {},
   "outputs": [
    {
     "data": {
      "text/plain": [
       "array([1. , 1. , 1. , 1. , 1.5, 2. ])"
      ]
     },
     "execution_count": 20,
     "metadata": {},
     "output_type": "execute_result"
    }
   ],
   "source": [
    "f = np.array([1, 2, 3, 4, 5, 7], dtype=float)\n",
    "np.gradient(f)"
   ]
  },
  {
   "cell_type": "code",
   "execution_count": 24,
   "metadata": {},
   "outputs": [
    {
     "data": {
      "text/plain": [
       "array([1., 1., 1., 1., 1., 1.])"
      ]
     },
     "execution_count": 24,
     "metadata": {},
     "output_type": "execute_result"
    }
   ],
   "source": [
    "f = np.array([1,  2,  3,   4,   5,  6], dtype=float)\n",
    "x = np.array([0,  1,  2,   3,   4,  5], dtype=float)\n",
    "np.gradient(f,x)"
   ]
  },
  {
   "cell_type": "code",
   "execution_count": 25,
   "metadata": {},
   "outputs": [
    {
     "data": {
      "text/plain": [
       "array([1.        , 1.        , 0.83333333, 0.83333333, 1.        ,\n",
       "       1.        ])"
      ]
     },
     "execution_count": 25,
     "metadata": {},
     "output_type": "execute_result"
    }
   ],
   "source": [
    "f = np.array([1,  2,  3,   4,   5,  6], dtype=float)\n",
    "x = np.array([0,  1,  2,   4,   5,  6], dtype=float)\n",
    "np.gradient(f,x)"
   ]
  },
  {
   "cell_type": "code",
   "execution_count": 26,
   "metadata": {},
   "outputs": [
    {
     "data": {
      "text/plain": [
       "0.6666666666666666"
      ]
     },
     "execution_count": 26,
     "metadata": {},
     "output_type": "execute_result"
    }
   ],
   "source": [
    "(4-2)/3"
   ]
  },
  {
   "cell_type": "code",
   "execution_count": 27,
   "metadata": {},
   "outputs": [
    {
     "data": {
      "text/plain": [
       "2.40000000096"
      ]
     },
     "execution_count": 27,
     "metadata": {},
     "output_type": "execute_result"
    }
   ],
   "source": [
    "(4-2)/0.833333333"
   ]
  },
  {
   "cell_type": "markdown",
   "metadata": {},
   "source": [
    "#### Plot the minimum on your graph\n",
    "Replot the RSS cost curve as above. Add a red dot for the minimum of this graph using the solution from your gradient descent function above."
   ]
  },
  {
   "cell_type": "code",
   "execution_count": 34,
   "metadata": {},
   "outputs": [
    {
     "name": "stdout",
     "output_type": "stream",
     "text": [
      "[-3, -2, -1, 0, 1, 2, 3, 4, 5]\n"
     ]
    },
    {
     "data": {
      "text/plain": [
       "<matplotlib.collections.PathCollection at 0x193f12ce400>"
      ]
     },
     "execution_count": 34,
     "metadata": {},
     "output_type": "execute_result"
    },
    {
     "data": {
      "image/png": "[encoded data removed]",
      "text/plain": [
       "<Figure size 576x360 with 1 Axes>"
      ]
     },
     "metadata": {
      "needs_background": "light"
     },
     "output_type": "display_data"
    }
   ],
   "source": [
    "# Your code here\n",
    "m= range(-3,6)\n",
    "print(list(m))\n",
    "rss_plot=[rss(i,X,y) for i in m]\n",
    "rss_plot\n",
    "fig=plt.figure(figsize=(8,5))\n",
    "plt.plot(m,rss_plot)\n",
    "plt.scatter(cur_x,rss(cur_x),c='red')"
   ]
  },
  {
   "cell_type": "markdown",
   "metadata": {},
   "source": [
    "## Summary \n",
    "\n",
    "In this lab, you coded up a gradient descent algorithm from scratch! In the next lab, you'll apply this to logistic regression in order to create a full implementation yourself!"
   ]
  }
 ],
 "metadata": {
  "kernelspec": {
   "display_name": "Python 3",
   "language": "python",
   "name": "python3"
  },
  "language_info": {
   "codemirror_mode": {
    "name": "ipython",
    "version": 3
   },
   "file_extension": ".py",
   "mimetype": "text/x-python",
   "name": "python",
   "nbconvert_exporter": "python",
   "pygments_lexer": "ipython3",
   "version": "3.6.9"
  }
 },
 "nbformat": 4,
 "nbformat_minor": 2
}
